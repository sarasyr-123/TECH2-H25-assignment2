{
 "cells": [
  {
   "cell_type": "markdown",
   "id": "5b24ab0a",
   "metadata": {},
   "source": [
    "# TECH2 Mandatory assignment 2\n",
    "\n",
    "## About the mandatory assignment\n",
    "\n",
    "-   The assignment must be completed individually.\n",
    "-   You are allowed to use all online resources for help, including generative AI. You must include a statement on how you used AI to solve the tasks.\n",
    "-   After the assignment deadline, you must perform a peer review of two other students' assignment on Canvas. You're not allowed to use AI to write the peer-review for you.\n",
    "-   Deadline for the assignment: Friday, October 17, 16:00.\n",
    "-   Deadline for the peer review: Friday, October 24, 16:00."
   ]
  },
  {
   "cell_type": "markdown",
   "id": "acb6f368",
   "metadata": {},
   "source": []
  },
  {
   "cell_type": "markdown",
   "id": "969a9208",
   "metadata": {},
   "source": [
    "\n",
    "## Requirements\n",
    "\n",
    "-   Your solution needs to be uploaded to GitHub. You should fork the assignment repository at\n",
    "    [https://github.com/richardfoltyn/TECH2-H25-assignment2](https://github.com/richardfoltyn/TECH2-H25-assignment2)\n",
    "    and add your solution to this notebook.\n",
    "-   All commits in your repository must be *prior* to the deadline. \n",
    "-   You need to make sure that your GitHub repository is publicly accessible. This can be changed in the GitHub repository setttings, if required.\n",
    "-   You need to submit the URL to the your GitHub repository on Canvas.\n",
    "-   Make sure your notebook runs without errors (`Restart` and `Run all`). \n",
    "-   Your notebook *must* run with the TECH2 environment we've been using in part 2. You can create this environment from the \n",
    "    `environment.yml` file in this repository if you haven't done so earlier.\n"
   ]
  },
  {
   "cell_type": "markdown",
   "id": "2e89eaca",
   "metadata": {},
   "source": [
    "## Tasks\n",
    "\n",
    "In this assignment, you are asked to analyze a 10% sub-sample of the Survey of Consumer Finances (SCF), a survey of household portfolios that is representative of the US population. The survey was administered every 3 years from 1989 to 2022. The appendix in this document contains a description of the variables present in this data set (this is a subset; the original SCF contains many more variables).\n",
    "\n",
    "1.  Data preprocessing\n",
    "\n",
    "    1.  Read the CSV file `SCF_10pct.csv` stored in this repository.\n",
    "    2.  Keep only observations where the household head is aged between 25 and 89. \n",
    "    3.  Create the column `'college'`, which contains an indicator variable that is 1 when the household head has at least some college (column `'educ'` is 3 or 4), and 0 otherwise.\n",
    "    4.  Divide the values in the column `'networth'` by 1,000 so that they are reported in thousands of US dollars.\n",
    "    5.  Report the number of observations in the final sample.\n",
    "\n",
    "2.  In this part, you're asked to analyze how net worth (total gross assets minus total debt) varies across the four education levels (no high school, high school, some college, 4-year college or more):\n",
    "\n",
    "    1.  Compute the average net worth (in thousands of US dollars) by education (use a loop).\n",
    "    2.  Create a bar chart that plots the average net worth by education.\n",
    "\n",
    "3.  In this part, you're asked to analyze how net worth has changed over the last 3 decades:\n",
    "\n",
    "    1.  Compute the average net worth (in thousands of US dollars) by survey year (use a loop).\n",
    "    2.  Create a line plot that shows the evolution of average net worth over the years 1989 to 2022.\n",
    "\n",
    "4.  Finally, combine the analyses from the previous parts to see how net worth evolved over the years for those with and without college.\n",
    "\n",
    "    1.  Compute the average net worth (in thousands of US dollars) by survey year, separately for non-college (`college=0`) and the college-educated (`college=1`).\n",
    "    2.  Create a line plot that shows the evolution of net worth over the years 1989 to 2022 by college status, i.e., your figure should contain two lines, one for college and one for non-college.\n",
    "\n",
    "Remember to add axis labels, titles, and legends (where applicable) to all your figures.\n"
   ]
  },
  {
   "cell_type": "markdown",
   "id": "05716c15",
   "metadata": {},
   "source": [
    "## Hints\n",
    "\n",
    "-   The assignment can be solved using the concepts we covered up to and including lecture/workshop 3 on Friday, October 10. \n",
    "-   In particular, you don't need `groupby()` which we'll cover later in the course, but you can instead loop over education levels or years, as needed."
   ]
  },
  {
   "cell_type": "markdown",
   "id": "b7c832de",
   "metadata": {},
   "source": [
    "***\n",
    "**WRITE YOUR SOLUTION TO PARTS 1-4 HERE**"
   ]
  },
  {
   "cell_type": "markdown",
   "id": "a5a5e2f3",
   "metadata": {},
   "source": [
    "### Part 1"
   ]
  },
  {
   "cell_type": "markdown",
   "id": "01fc5685",
   "metadata": {},
   "source": [
    "##### This part starts with importing pandas"
   ]
  },
  {
   "cell_type": "code",
   "execution_count": null,
   "id": "02f7403c",
   "metadata": {},
   "outputs": [
    {
     "name": "stdout",
     "output_type": "stream",
     "text": [
      "5471\n"
     ]
    },
    {
     "name": "stderr",
     "output_type": "stream",
     "text": [
      "/var/folders/6f/g67x80ss5cs1638r4qyxszcw0000gn/T/ipykernel_28914/2935496387.py:7: SettingWithCopyWarning: \n",
      "A value is trying to be set on a copy of a slice from a DataFrame.\n",
      "Try using .loc[row_indexer,col_indexer] = value instead\n",
      "\n",
      "See the caveats in the documentation: https://pandas.pydata.org/pandas-docs/stable/user_guide/indexing.html#returning-a-view-versus-a-copy\n",
      "  df_filtered.loc[:, 'college'] = ((df_filtered['educ'] == 3) | (df_filtered['educ'] == 4)).astype(int)\n",
      "/var/folders/6f/g67x80ss5cs1638r4qyxszcw0000gn/T/ipykernel_28914/2935496387.py:9: SettingWithCopyWarning: \n",
      "A value is trying to be set on a copy of a slice from a DataFrame.\n",
      "Try using .loc[row_indexer,col_indexer] = value instead\n",
      "\n",
      "See the caveats in the documentation: https://pandas.pydata.org/pandas-docs/stable/user_guide/indexing.html#returning-a-view-versus-a-copy\n",
      "  df_filtered['networth'] = df_filtered['networth'] / 1000\n"
     ]
    },
    {
     "data": {
      "text/html": [
       "<div>\n",
       "<style scoped>\n",
       "    .dataframe tbody tr th:only-of-type {\n",
       "        vertical-align: middle;\n",
       "    }\n",
       "\n",
       "    .dataframe tbody tr th {\n",
       "        vertical-align: top;\n",
       "    }\n",
       "\n",
       "    .dataframe thead th {\n",
       "        text-align: right;\n",
       "    }\n",
       "</style>\n",
       "<table border=\"1\" class=\"dataframe\">\n",
       "  <thead>\n",
       "    <tr style=\"text-align: right;\">\n",
       "      <th></th>\n",
       "      <th>id</th>\n",
       "      <th>year</th>\n",
       "      <th>age</th>\n",
       "      <th>educ</th>\n",
       "      <th>networth</th>\n",
       "      <th>college</th>\n",
       "    </tr>\n",
       "  </thead>\n",
       "  <tbody>\n",
       "    <tr>\n",
       "      <th>0</th>\n",
       "      <td>1</td>\n",
       "      <td>1989</td>\n",
       "      <td>35</td>\n",
       "      <td>2</td>\n",
       "      <td>0.0000</td>\n",
       "      <td>0</td>\n",
       "    </tr>\n",
       "    <tr>\n",
       "      <th>1</th>\n",
       "      <td>2</td>\n",
       "      <td>1989</td>\n",
       "      <td>35</td>\n",
       "      <td>2</td>\n",
       "      <td>0.0000</td>\n",
       "      <td>0</td>\n",
       "    </tr>\n",
       "    <tr>\n",
       "      <th>2</th>\n",
       "      <td>3</td>\n",
       "      <td>1989</td>\n",
       "      <td>51</td>\n",
       "      <td>2</td>\n",
       "      <td>16.8999</td>\n",
       "      <td>0</td>\n",
       "    </tr>\n",
       "    <tr>\n",
       "      <th>3</th>\n",
       "      <td>4</td>\n",
       "      <td>1989</td>\n",
       "      <td>33</td>\n",
       "      <td>2</td>\n",
       "      <td>25.8456</td>\n",
       "      <td>0</td>\n",
       "    </tr>\n",
       "    <tr>\n",
       "      <th>4</th>\n",
       "      <td>5</td>\n",
       "      <td>1989</td>\n",
       "      <td>33</td>\n",
       "      <td>2</td>\n",
       "      <td>25.8456</td>\n",
       "      <td>0</td>\n",
       "    </tr>\n",
       "    <tr>\n",
       "      <th>...</th>\n",
       "      <td>...</td>\n",
       "      <td>...</td>\n",
       "      <td>...</td>\n",
       "      <td>...</td>\n",
       "      <td>...</td>\n",
       "      <td>...</td>\n",
       "    </tr>\n",
       "    <tr>\n",
       "      <th>5803</th>\n",
       "      <td>5804</td>\n",
       "      <td>2022</td>\n",
       "      <td>57</td>\n",
       "      <td>2</td>\n",
       "      <td>129.1010</td>\n",
       "      <td>0</td>\n",
       "    </tr>\n",
       "    <tr>\n",
       "      <th>5804</th>\n",
       "      <td>5805</td>\n",
       "      <td>2022</td>\n",
       "      <td>80</td>\n",
       "      <td>4</td>\n",
       "      <td>747.4000</td>\n",
       "      <td>1</td>\n",
       "    </tr>\n",
       "    <tr>\n",
       "      <th>5805</th>\n",
       "      <td>5806</td>\n",
       "      <td>2022</td>\n",
       "      <td>67</td>\n",
       "      <td>4</td>\n",
       "      <td>7354.7600</td>\n",
       "      <td>1</td>\n",
       "    </tr>\n",
       "    <tr>\n",
       "      <th>5806</th>\n",
       "      <td>5807</td>\n",
       "      <td>2022</td>\n",
       "      <td>70</td>\n",
       "      <td>4</td>\n",
       "      <td>3229.0000</td>\n",
       "      <td>1</td>\n",
       "    </tr>\n",
       "    <tr>\n",
       "      <th>5807</th>\n",
       "      <td>5808</td>\n",
       "      <td>2022</td>\n",
       "      <td>55</td>\n",
       "      <td>4</td>\n",
       "      <td>818.1000</td>\n",
       "      <td>1</td>\n",
       "    </tr>\n",
       "  </tbody>\n",
       "</table>\n",
       "<p>5471 rows × 6 columns</p>\n",
       "</div>"
      ],
      "text/plain": [
       "        id  year  age  educ   networth  college\n",
       "0        1  1989   35     2     0.0000        0\n",
       "1        2  1989   35     2     0.0000        0\n",
       "2        3  1989   51     2    16.8999        0\n",
       "3        4  1989   33     2    25.8456        0\n",
       "4        5  1989   33     2    25.8456        0\n",
       "...    ...   ...  ...   ...        ...      ...\n",
       "5803  5804  2022   57     2   129.1010        0\n",
       "5804  5805  2022   80     4   747.4000        1\n",
       "5805  5806  2022   67     4  7354.7600        1\n",
       "5806  5807  2022   70     4  3229.0000        1\n",
       "5807  5808  2022   55     4   818.1000        1\n",
       "\n",
       "[5471 rows x 6 columns]"
      ]
     },
     "execution_count": 147,
     "metadata": {},
     "output_type": "execute_result"
    }
   ],
   "source": [
    "#Importing pandas, referred to as pd \n",
    "import pandas as pd\n",
    "\n",
    "#Read in the csv file SCF_10pct.csv \n",
    "df = pd.read_csv('/Users/sarasyrrist/TECH2/TECH2-H25/TECH2-H25/TECH2-H25-assignment2/SCF_10pct.csv')\n",
    "\n",
    "#Makes a new data frame that exludes data from people under 25 and over 89 \n",
    "df_filtered = df[(df['age'] >= 25) & (df['age'] <= 89)]\n",
    "\n",
    "#Make a new column named college which includes all the rows \n",
    "#If the person has 3 or 4 years education, the boolean condition is true and it gets 1, if not it gets value 0 \n",
    "df_filtered.loc[:, 'college'] = ((df_filtered['educ'] == 3) | (df_filtered['educ'] == 4)).astype(int)\n",
    "\n",
    "#Divides the networth column by 1000 so networth is shown in 1000$\n",
    "df_filtered['networth'] = df_filtered['networth'] / 1000\n",
    "\n",
    "#Show nummber of observations which remains after filtering \n",
    "num_observations = len(df_filtered)\n",
    "print(num_observations)\n",
    "\n",
    "df_filtered\n"
   ]
  },
  {
   "cell_type": "code",
   "execution_count": null,
   "id": "6d0c6d7c",
   "metadata": {},
   "outputs": [
    {
     "data": {
      "text/html": [
       "<div>\n",
       "<style scoped>\n",
       "    .dataframe tbody tr th:only-of-type {\n",
       "        vertical-align: middle;\n",
       "    }\n",
       "\n",
       "    .dataframe tbody tr th {\n",
       "        vertical-align: top;\n",
       "    }\n",
       "\n",
       "    .dataframe thead th {\n",
       "        text-align: right;\n",
       "    }\n",
       "</style>\n",
       "<table border=\"1\" class=\"dataframe\">\n",
       "  <thead>\n",
       "    <tr style=\"text-align: right;\">\n",
       "      <th></th>\n",
       "      <th>id</th>\n",
       "      <th>year</th>\n",
       "      <th>age</th>\n",
       "      <th>educ</th>\n",
       "      <th>networth</th>\n",
       "    </tr>\n",
       "  </thead>\n",
       "  <tbody>\n",
       "  </tbody>\n",
       "</table>\n",
       "</div>"
      ],
      "text/plain": [
       "Empty DataFrame\n",
       "Columns: [id, year, age, educ, networth]\n",
       "Index: []"
      ]
     },
     "execution_count": 148,
     "metadata": {},
     "output_type": "execute_result"
    }
   ],
   "source": [
    "\n",
    "#A check if someone with educ==0 has a networth \n",
    "df_filtered2 =df[(df['educ']==0) & (df['networth'] > 0)]\n",
    "\n",
    "df_filtered2"
   ]
  },
  {
   "cell_type": "code",
   "execution_count": 149,
   "id": "d12a4cd1",
   "metadata": {},
   "outputs": [
    {
     "name": "stdout",
     "output_type": "stream",
     "text": [
      "/Users/sarasyrrist/TECH2/TECH2-H25/TECH2-H25/TECH2-H25-assignment2\n"
     ]
    }
   ],
   "source": [
    "import os\n",
    "print(os.getcwd())"
   ]
  },
  {
   "cell_type": "markdown",
   "id": "7590260b",
   "metadata": {},
   "source": [
    "### Part 2"
   ]
  },
  {
   "cell_type": "code",
   "execution_count": null,
   "id": "71b18a1f",
   "metadata": {},
   "outputs": [
    {
     "name": "stdout",
     "output_type": "stream",
     "text": [
      "913.6943933467372\n",
      "{np.int64(1): np.float64(154.40989670184698), np.int64(2): np.float64(279.352174187615), np.int64(3): np.float64(1107.2766295245397), np.int64(4): np.float64(1677.3156374015748)}\n"
     ]
    },
    {
     "name": "stderr",
     "output_type": "stream",
     "text": [
      "/var/folders/6f/g67x80ss5cs1638r4qyxszcw0000gn/T/ipykernel_28914/914590645.py:16: UserWarning: Pandas doesn't allow columns to be created via a new attribute name - see https://pandas.pydata.org/pandas-docs/stable/indexing.html#attribute-access\n",
      "  df.average_networth_by_education=pd.DataFrame(\n"
     ]
    },
    {
     "data": {
      "text/html": [
       "<div>\n",
       "<style scoped>\n",
       "    .dataframe tbody tr th:only-of-type {\n",
       "        vertical-align: middle;\n",
       "    }\n",
       "\n",
       "    .dataframe tbody tr th {\n",
       "        vertical-align: top;\n",
       "    }\n",
       "\n",
       "    .dataframe thead th {\n",
       "        text-align: right;\n",
       "    }\n",
       "</style>\n",
       "<table border=\"1\" class=\"dataframe\">\n",
       "  <thead>\n",
       "    <tr style=\"text-align: right;\">\n",
       "      <th></th>\n",
       "      <th>educ</th>\n",
       "      <th>average_networth</th>\n",
       "    </tr>\n",
       "  </thead>\n",
       "  <tbody>\n",
       "    <tr>\n",
       "      <th>0</th>\n",
       "      <td>1</td>\n",
       "      <td>154.409897</td>\n",
       "    </tr>\n",
       "    <tr>\n",
       "      <th>1</th>\n",
       "      <td>2</td>\n",
       "      <td>279.352174</td>\n",
       "    </tr>\n",
       "    <tr>\n",
       "      <th>2</th>\n",
       "      <td>3</td>\n",
       "      <td>1107.276630</td>\n",
       "    </tr>\n",
       "    <tr>\n",
       "      <th>3</th>\n",
       "      <td>4</td>\n",
       "      <td>1677.315637</td>\n",
       "    </tr>\n",
       "  </tbody>\n",
       "</table>\n",
       "</div>"
      ],
      "text/plain": [
       "   educ  average_networth\n",
       "0     1        154.409897\n",
       "1     2        279.352174\n",
       "2     3       1107.276630\n",
       "3     4       1677.315637"
      ]
     },
     "execution_count": 150,
     "metadata": {},
     "output_type": "execute_result"
    }
   ],
   "source": [
    "#Importing pandas, referred to as pd \n",
    "import pandas as pd\n",
    "\n",
    "\n",
    "#Takes the average networth of the networth column \n",
    "average_networth=df_filtered['networth'].mean()\n",
    "print(average_networth)\n",
    "\n",
    "#Finds every unique value of 'educ' and sorts it \n",
    "education_years=sorted(df_filtered['educ'].unique())\n",
    "\n",
    "#Make a empty list to save the results from the loop \n",
    "average_networth_by_education={}\n",
    "\n",
    "#Starts a for loop \n",
    "#Makes a subset with only one value of subset\n",
    "#Calculate the average networth of the subset\n",
    "#Saves the result in the empty list with the key years, and value is the average of each 'educ'\n",
    "for years in education_years:\n",
    "    subset=df_filtered[df_filtered['educ']==years]\n",
    "    average=subset['networth'].mean()\n",
    "    average_networth_by_education[years]=average\n",
    "\n",
    "print(average_networth_by_education)\n",
    "\n",
    "#Makes a data frame out of the list with all the items from the for loop, with columns educ and average networth \n",
    "df.average_networth_by_education=pd.DataFrame(\n",
    "    list(average_networth_by_education.items()),columns=['educ','average_networth']\n",
    "    )\n",
    "\n",
    "df.average_networth_by_education"
   ]
  },
  {
   "cell_type": "code",
   "execution_count": 151,
   "id": "9f451364",
   "metadata": {},
   "outputs": [
    {
     "name": "stdout",
     "output_type": "stream",
     "text": [
      "educ\n",
      "4    1778\n",
      "2    1631\n",
      "3    1304\n",
      "1     758\n",
      "Name: count, dtype: int64\n"
     ]
    }
   ],
   "source": [
    "print(df_filtered['educ'].value_counts())\n"
   ]
  },
  {
   "cell_type": "code",
   "execution_count": null,
   "id": "ed524529",
   "metadata": {},
   "outputs": [
    {
     "data": {
      "text/plain": [
       "([<matplotlib.axis.XTick at 0x173437d90>,\n",
       "  <matplotlib.axis.XTick at 0x17334e5d0>,\n",
       "  <matplotlib.axis.XTick at 0x17334ed50>,\n",
       "  <matplotlib.axis.XTick at 0x17334f4d0>,\n",
       "  <matplotlib.axis.XTick at 0x17334fc50>],\n",
       " [Text(0, 0, '0'),\n",
       "  Text(1, 0, '1'),\n",
       "  Text(2, 0, '2'),\n",
       "  Text(3, 0, '3'),\n",
       "  Text(4, 0, '4')])"
      ]
     },
     "execution_count": 152,
     "metadata": {},
     "output_type": "execute_result"
    },
    {
     "data": {
      "image/png": "[encoded data removed]",
      "text/plain": [
       "<Figure size 640x480 with 1 Axes>"
      ]
     },
     "metadata": {},
     "output_type": "display_data"
    }
   ],
   "source": [
    "#Imports matplotlib referred to as plt\n",
    "import matplotlib.pyplot as plt\n",
    "\n",
    "#Set the x_values as the different years of education\n",
    "#Set the y_values as the different average_networth according to each year\n",
    "x_values=df.average_networth_by_education['educ']\n",
    "y_values=df.average_networth_by_education['average_networth']\n",
    "\n",
    "#Makes a bar chart for each education year, and following avg networth \n",
    "plt.bar(x_values,y_values)\n",
    "\n",
    "#Adds labels, title and ticks \n",
    "plt.xlabel('Year of education')\n",
    "plt.ylabel('Average networth in 1000$')\n",
    "plt.title('Average networth by education')\n",
    "\n",
    "plt.xticks([0,1,2,3,4])"
   ]
  },
  {
   "cell_type": "markdown",
   "id": "af698f56",
   "metadata": {},
   "source": [
    "### Part 3"
   ]
  },
  {
   "cell_type": "code",
   "execution_count": 153,
   "id": "7c641140",
   "metadata": {},
   "outputs": [
    {
     "data": {
      "text/plain": [
       "[<matplotlib.lines.Line2D at 0x1734a7b10>]"
      ]
     },
     "execution_count": 153,
     "metadata": {},
     "output_type": "execute_result"
    },
    {
     "data": {
      "image/png": "[encoded data removed]",
      "text/plain": [
       "<Figure size 640x480 with 1 Axes>"
      ]
     },
     "metadata": {},
     "output_type": "display_data"
    }
   ],
   "source": [
    "import pandas as pd\n",
    "import matplotlib.pyplot as plt\n",
    "\n",
    "survey_years=sorted(df['year'].unique())\n",
    "avg_networth_by_year={}\n",
    "\n",
    "for year in survey_years:\n",
    "    subset = df[df['year'] == year]\n",
    "    average = subset['networth'].mean()\n",
    "    avg_networth_by_year[year] = average\n",
    "\n",
    "df_average_networth_by_year=pd.DataFrame(\n",
    "    list(avg_networth_by_year.items()),\n",
    "    columns=['year','average_networth']\n",
    ")\n",
    "\n",
    "plt.plot(df_average_networth_by_year['year'],df_average_networth_by_year['average_networth'])\n",
    "\n",
    "\n"
   ]
  },
  {
   "cell_type": "markdown",
   "id": "23328cc6",
   "metadata": {},
   "source": [
    "### Part 4"
   ]
  },
  {
   "cell_type": "markdown",
   "id": "dfffb9b5",
   "metadata": {},
   "source": [
    "4.  Finally, combine the analyses from the previous parts to see how net worth evolved over the years for those with and without college.\n",
    "\n",
    "    1.  Compute the average net worth (in thousands of US dollars) by survey year, separately for non-college (`college=0`) and the college-educated (`college=1`).\n",
    "    2.  Create a line plot that shows the evolution of net worth over the years 1989 to 2022 by college status, i.e., your figure should contain two lines, one for college and one for non-college."
   ]
  },
  {
   "cell_type": "code",
   "execution_count": 154,
   "id": "0281f735",
   "metadata": {},
   "outputs": [],
   "source": [
    "survey_years = sorted(df_filtered['year'].unique())\n",
    "\n",
    "avg_networth_without_college = {}\n",
    "avg_networth_with_college = {}\n",
    "\n",
    "for year in survey_years:\n",
    "    college_group = df_filtered[(df_filtered['year'] == year) & (df_filtered['college'] == 1)]\n",
    "    avg_networth_with_college[year] = college_group['networth'].mean()\n",
    "\n",
    "    noncollege_group = df_filtered[(df_filtered['year'] == year) & (df_filtered['college'] == 0)]\n",
    "    avg_networth_without_college[year] = noncollege_group['networth'].mean()\n"
   ]
  },
  {
   "cell_type": "code",
   "execution_count": null,
   "id": "0ea1c34d",
   "metadata": {},
   "outputs": [],
   "source": []
  },
  {
   "cell_type": "code",
   "execution_count": 155,
   "id": "00a9517d",
   "metadata": {},
   "outputs": [
    {
     "name": "stderr",
     "output_type": "stream",
     "text": [
      "/var/folders/6f/g67x80ss5cs1638r4qyxszcw0000gn/T/ipykernel_28914/360737436.py:1: UserWarning: Pandas doesn't allow columns to be created via a new attribute name - see https://pandas.pydata.org/pandas-docs/stable/indexing.html#attribute-access\n",
      "  df.college=pd.DataFrame(\n",
      "/var/folders/6f/g67x80ss5cs1638r4qyxszcw0000gn/T/ipykernel_28914/360737436.py:5: UserWarning: Pandas doesn't allow columns to be created via a new attribute name - see https://pandas.pydata.org/pandas-docs/stable/indexing.html#attribute-access\n",
      "  df.noncollege=pd.DataFrame(\n"
     ]
    },
    {
     "data": {
      "text/html": [
       "<div>\n",
       "<style scoped>\n",
       "    .dataframe tbody tr th:only-of-type {\n",
       "        vertical-align: middle;\n",
       "    }\n",
       "\n",
       "    .dataframe tbody tr th {\n",
       "        vertical-align: top;\n",
       "    }\n",
       "\n",
       "    .dataframe thead th {\n",
       "        text-align: right;\n",
       "    }\n",
       "</style>\n",
       "<table border=\"1\" class=\"dataframe\">\n",
       "  <thead>\n",
       "    <tr style=\"text-align: right;\">\n",
       "      <th></th>\n",
       "      <th>year</th>\n",
       "      <th>avg_networth_without_college</th>\n",
       "    </tr>\n",
       "  </thead>\n",
       "  <tbody>\n",
       "    <tr>\n",
       "      <th>0</th>\n",
       "      <td>1989</td>\n",
       "      <td>202.620135</td>\n",
       "    </tr>\n",
       "    <tr>\n",
       "      <th>1</th>\n",
       "      <td>1992</td>\n",
       "      <td>204.436791</td>\n",
       "    </tr>\n",
       "    <tr>\n",
       "      <th>2</th>\n",
       "      <td>1995</td>\n",
       "      <td>247.165764</td>\n",
       "    </tr>\n",
       "    <tr>\n",
       "      <th>3</th>\n",
       "      <td>1998</td>\n",
       "      <td>283.365649</td>\n",
       "    </tr>\n",
       "    <tr>\n",
       "      <th>4</th>\n",
       "      <td>2001</td>\n",
       "      <td>188.831115</td>\n",
       "    </tr>\n",
       "    <tr>\n",
       "      <th>5</th>\n",
       "      <td>2004</td>\n",
       "      <td>339.639265</td>\n",
       "    </tr>\n",
       "    <tr>\n",
       "      <th>6</th>\n",
       "      <td>2007</td>\n",
       "      <td>383.550227</td>\n",
       "    </tr>\n",
       "    <tr>\n",
       "      <th>7</th>\n",
       "      <td>2010</td>\n",
       "      <td>212.499126</td>\n",
       "    </tr>\n",
       "    <tr>\n",
       "      <th>8</th>\n",
       "      <td>2013</td>\n",
       "      <td>181.008820</td>\n",
       "    </tr>\n",
       "    <tr>\n",
       "      <th>9</th>\n",
       "      <td>2016</td>\n",
       "      <td>243.526851</td>\n",
       "    </tr>\n",
       "    <tr>\n",
       "      <th>10</th>\n",
       "      <td>2019</td>\n",
       "      <td>174.599938</td>\n",
       "    </tr>\n",
       "    <tr>\n",
       "      <th>11</th>\n",
       "      <td>2022</td>\n",
       "      <td>218.572092</td>\n",
       "    </tr>\n",
       "  </tbody>\n",
       "</table>\n",
       "</div>"
      ],
      "text/plain": [
       "    year  avg_networth_without_college\n",
       "0   1989                    202.620135\n",
       "1   1992                    204.436791\n",
       "2   1995                    247.165764\n",
       "3   1998                    283.365649\n",
       "4   2001                    188.831115\n",
       "5   2004                    339.639265\n",
       "6   2007                    383.550227\n",
       "7   2010                    212.499126\n",
       "8   2013                    181.008820\n",
       "9   2016                    243.526851\n",
       "10  2019                    174.599938\n",
       "11  2022                    218.572092"
      ]
     },
     "execution_count": 155,
     "metadata": {},
     "output_type": "execute_result"
    }
   ],
   "source": [
    "df.college=pd.DataFrame(\n",
    "    list(avg_networth_with_college.items()),columns=['year','avg_networth_with_college']\n",
    "    )\n",
    "\n",
    "df.noncollege=pd.DataFrame(\n",
    "    list(avg_networth_without_college.items()),columns=['year','avg_networth_without_college']\n",
    ")\n",
    "\n",
    "df.college\n",
    "df.noncollege"
   ]
  },
  {
   "cell_type": "code",
   "execution_count": 156,
   "id": "ab23b8dc",
   "metadata": {},
   "outputs": [
    {
     "data": {
      "image/png": "[encoded data removed]",
      "text/plain": [
       "<Figure size 640x480 with 1 Axes>"
      ]
     },
     "metadata": {},
     "output_type": "display_data"
    }
   ],
   "source": [
    "df_combined=pd.merge(df.college , df.noncollege, on='year')\n",
    "\n",
    "import matplotlib.pyplot as plt \n",
    "\n",
    "plt.plot(df_combined['year'],df_combined['avg_networth_with_college'], label='College', marker='o')\n",
    "plt.plot(df_combined['year'],df_combined['avg_networth_without_college'],label='Non college', marker=None)\n",
    "\n",
    "\n",
    "#Adding title, labels, \n",
    "plt.title('Networth over time by college status')\n",
    "plt.xlabel('Survey years')\n",
    "plt.ylabel('Networth in 1000$')\n",
    "plt.legend()\n",
    "plt.grid(True)\n",
    "plt.xticks(df_combined['year'], rotation=45)\n",
    "plt.tight_layout\n",
    "plt.show()\n"
   ]
  },
  {
   "cell_type": "code",
   "execution_count": null,
   "id": "aef6ed64",
   "metadata": {},
   "outputs": [],
   "source": []
  },
  {
   "cell_type": "markdown",
   "id": "1f983064",
   "metadata": {},
   "source": [
    "***\n",
    "# Data description"
   ]
  },
  {
   "cell_type": "markdown",
   "id": "ee90f234",
   "metadata": {},
   "source": [
    "## Variables\n",
    "\n",
    "| Variable         | Description |\n",
    "|------------------|-------------|\n",
    "| id               | Identifier  |\n",
    "| year             | Survey year |\n",
    "| age             | Age of reference person (household head) |\n",
    "| educ            | Education of reference person (1 = no high school/GED, 2 = high school or GED, 3 = some college or Assoc. degree, 4 = Bachelors degree or higher)|\n",
    "| networth        | Net worth in US dollars |"
   ]
  },
  {
   "cell_type": "markdown",
   "id": "339882d9",
   "metadata": {},
   "source": [
    "## Reference\n",
    "\n",
    "- URL: https://www.federalreserve.gov/econres/scfindex.htm\n",
    "- DOI Identifier: https://doi.org/10.17016/8799\n",
    "- Creator: Board of Governors of the Federal Reserve Board\n",
    "- Name: 2022 Survey of Consumer Finances\n",
    "- Description:\n",
    "    The Survey of Consumer Finances (SCF) is normally a triennial cross-sectional survey of U.S. families. The survey data include information on families' balance sheets, pensions, income, and demographic characteristics.\n",
    "- Publisher: Board of Governors of the Federal Reserve System\n",
    "- Publication Year: 2023 "
   ]
  }
 ],
 "metadata": {
  "kernelspec": {
   "display_name": "TECH2",
   "language": "python",
   "name": "python3"
  },
  "language_info": {
   "codemirror_mode": {
    "name": "ipython",
    "version": 3
   },
   "file_extension": ".py",
   "mimetype": "text/x-python",
   "name": "python",
   "nbconvert_exporter": "python",
   "pygments_lexer": "ipython3",
   "version": "3.13.5"
  }
 },
 "nbformat": 4,
 "nbformat_minor": 5
}
